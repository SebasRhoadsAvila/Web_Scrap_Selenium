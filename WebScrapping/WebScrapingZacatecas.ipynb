{
 "cells": [
  {
   "cell_type": "code",
   "execution_count": null,
   "metadata": {},
   "outputs": [],
   "source": [
    "import pandas as pd\n",
    "from selenium import webdriver\n",
    "from selenium.webdriver.common.by import By\n",
    "from selenium.webdriver.chrome.service import Service\n",
    "from webdriver_manager.chrome import ChromeDriverManager\n",
    "from selenium.webdriver.support.ui import WebDriverWait\n",
    "from selenium.webdriver.support import expected_conditions as EC\n",
    "\n",
    "# Cargar el archivo de Excel\n",
    "excel_path = 'C:/Users/Acer/Desktop/PythonNotes/Python/DataSetsPython/061524 ESTADOS RESTANTE.xlsx'\n",
    "df = pd.read_excel(excel_path, sheet_name='ZACATECAS 2023')\n",
    "\n",
    "# Configuración de Selenium\n",
    "def setup_driver():\n",
    "    options = webdriver.ChromeOptions()\n",
    "    options.add_argument('--headless')\n",
    "    driver = webdriver.Chrome(service=Service(ChromeDriverManager().install()), options=options)\n",
    "    return driver"
   ]
  },
  {
   "cell_type": "code",
   "execution_count": null,
   "metadata": {},
   "outputs": [],
   "source": [
    "# Lista para almacenar los datos extraídos\n",
    "data = []\n",
    "\n",
    "# Iterar sobre cada URL en la columna 'Dirección del anuncio'\n",
    "for index, url in enumerate(df['Dirección del anuncio'], start=1):\n",
    "    driver = setup_driver()\n",
    "    driver.get(url)\n",
    "    driver.implicitly_wait(30)  # Esperar a que la página cargue completamente\n",
    "    print(f\"Procesando URL {index} de {len(df)}: {url}\")\n",
    "    # Selector base para la tabla\n",
    "\n",
    "    base_selector = \"#p-tabpanel-5 > div > app-sitiopublico-detalle-economicos-pc > div > div > app-sitiopublico-detalle-economicos-list > div.p-col-12.p-sm-12.p-md-12.p-lg-12.ng-star-inserted > p-table > div > div > div > div.p-datatable-scrollable-body.ng-star-inserted > table > tbody > tr\"\n",
    "    rows = driver.find_elements(By.CSS_SELECTOR, base_selector)\n",
    "    if not rows:\n",
    "        base_selector = \"#p-tabpanel-5 > div > app-sitiopublico-detalle-economicos-pc > div > div > app-sitiopublico-detalle-economicos-list > div.p-col-12.p-sm-12.p-md-12.p-lg-12.ng-star-inserted > p-table > div > div > table > tbody > tr\"\n",
    "        rows = driver.find_elements(By.CSS_SELECTOR, base_selector)\n",
    "\n",
    "    for row in rows:\n",
    "        description = row.find_element(By.CSS_SELECTOR, 'td:nth-child(4)').text\n",
    "        unit = row.find_element(By.CSS_SELECTOR, 'td:nth-child(6)').text\n",
    "        try:\n",
    "            quantity = row.find_element(By.CSS_SELECTOR, 'td:nth-child(7)').text\n",
    "        except Exception:\n",
    "            quantity = \"N/A\"  # Usa \"N/A\" o cualquier otro valor que represente un dato no disponible\n",
    "\n",
    "        data.append({'Dirección del anuncio': url, 'Descripción CUCoP+': description, 'Cantidad': quantity, 'Unidad de medida': unit})\n",
    "        print(f\"Extraído: Descripción - {description}, Unidad - {unit}, Cantidad - {quantity}\")\n",
    "\n",
    "    driver.quit()\n",
    "\n",
    "    if index % 90 == 0:\n",
    "        temp_df = pd.DataFrame(data)\n",
    "        temp_df.to_excel(f'C:/Users/Acer/Desktop/PythonNotes/Python/DataSetsPython/ZACATECAS_temp_{index}.xlsx', index=False)\n",
    "        print(f\"Datos guardados temporalmente en ZACATECAS_temp_{index}.xlsx\")\n",
    "\n",
    "# Convertir los datos a DataFrame\n",
    "new_df = pd.DataFrame(data)\n",
    "\n",
    "# Guardar en nuevo archivo Excel\n",
    "new_df.to_excel('C:/Users/Acer/Desktop/PythonNotes/Python/DataSetsPython/ZACATECAS_actualizado.xlsx', index=False)\n",
    "\n",
    "print(\"Proceso completado. El archivo Excel ha sido actualizado.\")"
   ]
  }
 ],
 "metadata": {
  "language_info": {
   "name": "python"
  }
 },
 "nbformat": 4,
 "nbformat_minor": 2
}
